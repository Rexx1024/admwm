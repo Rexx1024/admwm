{
 "cells": [
  {
   "cell_type": "markdown",
   "id": "8a77807f92f26ee",
   "metadata": {},
   "source": [
    "# This is a sample Jupyter Notebook\n",
    "\n",
    "Below is an example of a code cell. \n",
    "Put your cursor into the cell and press Shift+Enter to execute it and select the next one, or click !here goes the icon of the corresponding button in the gutter! button.\n",
    "To debug a cell, press Alt+Shift+Enter, or click !here goes the icon of the corresponding button in the gutter! button.\n",
    "\n",
    "Press Double Shift to search everywhere for classes, files, tool windows, actions, and settings.\n",
    "\n",
    "To learn more about Jupyter Notebooks in PyCharm, see [help](https://www.jetbrains.com/help/pycharm/jupyter-notebook-support.html).\n",
    "For an overview of PyCharm, go to Help -> Learn IDE features or refer to [our documentation](https://www.jetbrains.com/help/pycharm/getting-started.html)."
   ]
  },
  {
   "metadata": {},
   "cell_type": "markdown",
   "source": "Some imports we need to run the RAG demonstration.",
   "id": "6295a7e3ed4eca8c"
  },
  {
   "metadata": {},
   "cell_type": "code",
   "outputs": [],
   "execution_count": null,
   "source": "",
   "id": "e0fa019e58ddbedc"
  },
  {
   "metadata": {},
   "cell_type": "markdown",
   "source": "Code to ignore warnings. Not a good code practice but fine for the demo.",
   "id": "d12f0b099401c294"
  },
  {
   "metadata": {
    "ExecuteTime": {
     "end_time": "2024-05-20T14:00:35.494940Z",
     "start_time": "2024-05-20T14:00:35.490705Z"
    }
   },
   "cell_type": "code",
   "source": [
    "import warnings\n",
    "warnings.filterwarnings('ignore')"
   ],
   "id": "ab98a4c7b398b674",
   "outputs": [],
   "execution_count": 1
  },
  {
   "metadata": {},
   "cell_type": "markdown",
   "source": [
    "The generator should generate an answer based on the user query and the relevant documents.\n",
    "We introduce a abstract class to work with generators and implementing a PromptGenerator.\n",
    "The PromptGenerator is only creating a prompt which can be executed with any LLM you like."
   ],
   "id": "fc3bb770d030e08"
  },
  {
   "metadata": {
    "ExecuteTime": {
     "end_time": "2024-05-20T14:00:38.678017Z",
     "start_time": "2024-05-20T14:00:38.396609Z"
    }
   },
   "cell_type": "code",
   "source": [
    "from typing import List\n",
    "from langchain_core.prompts import PromptTemplate\n",
    "from langchain_core.documents.base import Document\n",
    "\n",
    "class Generator:\n",
    "    def invoke(self, query: str, documents: List[Document]) -> str:\n",
    "        pass\n",
    "\n",
    "class PromptGenerator(Generator):\n",
    "    def __init__(self):\n",
    "        template = (\"Use only the provided information following after \\\"Context:\\\" to answer the question following after \\\"Question:\\\" at the end.\\n\" +\n",
    "                    \"If you don't know the answer, just say that you don't know, don't try to make up an answer.\\n\" +\n",
    "                    \"Use three sentences maximum and keep the answer as concise as possible.\\n\\n\" +\n",
    "                    \"Context: {context}\\n\\n\" +\n",
    "                    \"Question: {question}\")\n",
    "        self.prompt_template = PromptTemplate.from_template(template)\n",
    "        \n",
    "    def invoke(self, query: str, documents: List[Document]) -> str:\n",
    "        context = \"\\n\".join([f\"{i+1}. {doc.page_content}\" for i, doc in enumerate(documents)])\n",
    "        prompt = self.prompt_template.format(question=query, context=context)\n",
    "        \n",
    "        return prompt"
   ],
   "id": "eafa9949cf1b7cd",
   "outputs": [],
   "execution_count": 2
  },
  {
   "metadata": {},
   "cell_type": "markdown",
   "source": [
    "We are not implementing the Retriever because there is already an implementation available in LangChain.\n",
    "Instead, we will use that implementation, and we will wrap the creation of the retriever behind a Builder.\n",
    "The Builder will also implement some logic to enhance the existing retriever with some new knowledge."
   ],
   "id": "df543da062d2bb4f"
  },
  {
   "metadata": {
    "ExecuteTime": {
     "end_time": "2024-05-20T14:00:42.276076Z",
     "start_time": "2024-05-20T14:00:41.711508Z"
    }
   },
   "cell_type": "code",
   "source": [
    "from typing import List\n",
    "from typing import Optional\n",
    "from langchain_core.documents.base import Document\n",
    "import chromadb\n",
    "from langchain_chroma import Chroma\n",
    "from langchain_community.embeddings.sentence_transformer import (\n",
    "    SentenceTransformerEmbeddings,\n",
    ")\n",
    "from langchain_core.vectorstores import VectorStore\n",
    "\n",
    "class Builder:\n",
    "    @staticmethod\n",
    "    def create_retriever(docs: Optional[List[Document]]) -> VectorStore:\n",
    "        collection_name=\"my_doc_store\"\n",
    "        embedding_function = SentenceTransformerEmbeddings(model_name=\"all-MiniLM-L6-v2\")\n",
    "        \n",
    "        if docs:\n",
    "            db = Chroma.from_documents(\n",
    "                documents=docs,\n",
    "                collection_name=collection_name,\n",
    "                embedding=embedding_function,\n",
    "            )\n",
    "        else:\n",
    "            db = Chroma(\n",
    "                client=chromadb.Client(),\n",
    "                collection_name=collection_name,\n",
    "                embedding_function=embedding_function,\n",
    "            )\n",
    "        \n",
    "        return db.as_retriever(search_type=\"similarity_score_threshold\", search_kwargs={\"k\": 5, \"score_threshold\": 0.5})\n",
    "    \n",
    "    @staticmethod\n",
    "    def add_knowledge(retriever: VectorStore, knowledge_collection: List[str]):\n",
    "        retriever.add_documents([Document(page_content=knowledge) for knowledge in knowledge_collection])"
   ],
   "id": "7e6a487bbd392fe",
   "outputs": [],
   "execution_count": 3
  },
  {
   "metadata": {},
   "cell_type": "markdown",
   "source": [
    "To chain the retriever and generator together to implement our RAG we can make use of the Orchestrator.\n",
    "Honestly, I don't know if there is a way to implement this with some LangChain pipeline, but I think for demonstration purpose that is enough. "
   ],
   "id": "866a0fa275acaa3"
  },
  {
   "metadata": {
    "ExecuteTime": {
     "end_time": "2024-05-20T14:00:44.338785Z",
     "start_time": "2024-05-20T14:00:44.335840Z"
    }
   },
   "cell_type": "code",
   "source": [
    "from langchain_core.vectorstores import VectorStore\n",
    "\n",
    "class Orchestrator:\n",
    "    def __init__(self, retriever: VectorStore, generator: Generator):\n",
    "        self.retriever = retriever\n",
    "        self.generator = generator\n",
    "        \n",
    "    def answer_question(self, question: str) -> str:\n",
    "        relevant_documents = self.retriever.invoke(question)\n",
    "        return self.generator.invoke(question, relevant_documents)"
   ],
   "id": "af6515490cd80bfe",
   "outputs": [],
   "execution_count": 4
  },
  {
   "metadata": {
    "ExecuteTime": {
     "end_time": "2024-05-20T14:01:00.181750Z",
     "start_time": "2024-05-20T14:00:47.121140Z"
    }
   },
   "cell_type": "code",
   "source": [
    "from datasets import load_dataset\n",
    "from langchain_core.documents.base import Document\n",
    "\n",
    "dataset = load_dataset(\"bilgeyucel/seven-wonders\", split=\"train\")\n",
    "docs = [Document(page_content=doc[\"content\"], meta=doc[\"meta\"]) for doc in dataset]\n",
    "\n",
    "orchestrator = Orchestrator(Builder.create_retriever(docs), PromptGenerator())\n",
    "\n",
    "print(orchestrator.answer_question(\"What happened to the Tomb of Mausolus?\"))"
   ],
   "id": "35067d899fbd0bfa",
   "outputs": [
    {
     "name": "stdout",
     "output_type": "stream",
     "text": [
      "Use only the provided information following after \"Context:\" to answer the question following after \"Question:\" at the end.\n",
      "If you don't know the answer, just say that you don't know, don't try to make up an answer.\n",
      "Use three sentences maximum and keep the answer as concise as possible.\n",
      "\n",
      "Context: 1. Mausolus decided to build a new capital, one as safe from capture as it was magnificent to be seen. He chose the city of Halicarnassus. Artemisia and Mausolus spent huge amounts of tax money to embellish the city. They commissioned statues, temples and buildings of gleaming marble. In 353 BC, Mausolus died, leaving Artemisia to rule alone. As the Persian satrap, and as the Hecatomnid dynast, Mausolus had planned for himself an elaborate tomb. When he died the project was continued by his siblings. The tomb became so famous that Mausolus's name is now the eponym for all stately tombs, in the word mausoleum.[citation needed]\n",
      "Artemisia lived for only two years after the death of her husband. The urns with their ashes were placed in the yet unfinished tomb. As a form of sacrifice, the bodies of a large number of dead animals were placed on the stairs leading to the tomb, and then the stairs were filled with stones and rubble, sealing the access. \n",
      "2. [citation needed]\n",
      "During the fortification work, a party of knights entered the base of the monument and discovered the room containing a great coffin. In many histories of the Mausoleum one can find the following story of what happened: the party, deciding it was too late to open it that day, returned the next morning to find the tomb, and any treasure it may have contained, plundered. The bodies of Mausolus and Artemisia were missing too. The small museum building next to the site of the Mausoleum tells the story. Research done by archeologists in the 1960s shows that long before the knights came, grave robbers had dug a tunnel under the grave chamber, stealing its contents. Also the museum states that it is most likely that Mausolus and Artemisia were cremated, so only an urn with their ashes was placed in the grave chamber. This explains why no bodies were found.[citation needed]\n",
      "Before grinding and burning much of the remaining sculpture of the Mausoleum into lime for plaster, the Knights removed several of the best works and mounted them in the Bodrum castle. There they stayed for three centuries.\n",
      "\n",
      "Question: What happened to the Tomb of Mausolus?\n"
     ]
    }
   ],
   "execution_count": 5
  },
  {
   "metadata": {
    "ExecuteTime": {
     "end_time": "2024-05-20T13:25:11.741413Z",
     "start_time": "2024-05-20T13:25:11.104631Z"
    }
   },
   "cell_type": "code",
   "source": [
    "\n",
    "        "
   ],
   "id": "45c28450daf9dbd0",
   "outputs": [],
   "execution_count": 4
  },
  {
   "metadata": {
    "ExecuteTime": {
     "end_time": "2024-05-20T13:25:28.174830Z",
     "start_time": "2024-05-20T13:25:13.871152Z"
    }
   },
   "cell_type": "code",
   "source": [
    "from datasets import load_dataset\n",
    "from langchain_core.documents.base import Document\n",
    "\n",
    "dataset = load_dataset(\"bilgeyucel/seven-wonders\", split=\"train\")\n",
    "docs = [Document(page_content=doc[\"content\"], meta=doc[\"meta\"]) for doc in dataset]\n",
    "\n",
    "retriever = Builder.create_retriever(docs)\n",
    "generator = PromptGenerator()\n",
    "orchestrator = Orchestrator(retriever, generator)\n",
    " \n",
    "print(orchestrator.invoke(\"What happened to the Tomb of Mausolus?\"))"
   ],
   "id": "f5cdd09eca57e1b2",
   "outputs": [
    {
     "name": "stderr",
     "output_type": "stream",
     "text": [
      "/home/rkienzle/miniconda3/envs/admwm/lib/python3.11/site-packages/huggingface_hub/file_download.py:1132: FutureWarning: `resume_download` is deprecated and will be removed in version 1.0.0. Downloads always resume when possible. If you want to force a new download, use `force_download=True`.\n",
      "  warnings.warn(\n",
      "/home/rkienzle/miniconda3/envs/admwm/lib/python3.11/site-packages/huggingface_hub/file_download.py:1132: FutureWarning: `resume_download` is deprecated and will be removed in version 1.0.0. Downloads always resume when possible. If you want to force a new download, use `force_download=True`.\n",
      "  warnings.warn(\n"
     ]
    },
    {
     "name": "stdout",
     "output_type": "stream",
     "text": [
      "Use only the provided information following after \"Context:\" to answer the question following after \"Question:\" at the end.\n",
      "If you don't know the answer, just say that you don't know, don't try to make up an answer.\n",
      "Use three sentences maximum and keep the answer as concise as possible.\n",
      "\n",
      "Context: 1. Mausolus decided to build a new capital, one as safe from capture as it was magnificent to be seen. He chose the city of Halicarnassus. Artemisia and Mausolus spent huge amounts of tax money to embellish the city. They commissioned statues, temples and buildings of gleaming marble. In 353 BC, Mausolus died, leaving Artemisia to rule alone. As the Persian satrap, and as the Hecatomnid dynast, Mausolus had planned for himself an elaborate tomb. When he died the project was continued by his siblings. The tomb became so famous that Mausolus's name is now the eponym for all stately tombs, in the word mausoleum.[citation needed]\n",
      "Artemisia lived for only two years after the death of her husband. The urns with their ashes were placed in the yet unfinished tomb. As a form of sacrifice, the bodies of a large number of dead animals were placed on the stairs leading to the tomb, and then the stairs were filled with stones and rubble, sealing the access. \n",
      "2. [citation needed]\n",
      "During the fortification work, a party of knights entered the base of the monument and discovered the room containing a great coffin. In many histories of the Mausoleum one can find the following story of what happened: the party, deciding it was too late to open it that day, returned the next morning to find the tomb, and any treasure it may have contained, plundered. The bodies of Mausolus and Artemisia were missing too. The small museum building next to the site of the Mausoleum tells the story. Research done by archeologists in the 1960s shows that long before the knights came, grave robbers had dug a tunnel under the grave chamber, stealing its contents. Also the museum states that it is most likely that Mausolus and Artemisia were cremated, so only an urn with their ashes was placed in the grave chamber. This explains why no bodies were found.[citation needed]\n",
      "Before grinding and burning much of the remaining sculpture of the Mausoleum into lime for plaster, the Knights removed several of the best works and mounted them in the Bodrum castle. There they stayed for three centuries.\n",
      "\n",
      "Question: What happened to the Tomb of Mausolus?\n"
     ]
    }
   ],
   "execution_count": 5
  },
  {
   "metadata": {
    "ExecuteTime": {
     "end_time": "2024-05-20T13:15:20.719015Z",
     "start_time": "2024-05-20T13:15:20.704836Z"
    }
   },
   "cell_type": "code",
   "source": "db.similarity_search_with_score(\"Who is Son Goku?\")",
   "id": "9aa8f6ec6a3cf9da",
   "outputs": [
    {
     "data": {
      "text/plain": [
       "[(Document(page_content='Son Goku is raised on earth'), 0.2402067929506302),\n",
       " (Document(page_content='Son Goku is a saiyan'), 0.2656806707382202),\n",
       " (Document(page_content='Son Goku is also named Goku or Kakarot'),\n",
       "  0.279945433139801),\n",
       " (Document(page_content='The earliest pharaonic name of seal impressions is that of Khufu, the latest of Pepi II. Worker graffiti was written on some of the stones of the tombs as well; for instance, \"Mddw\" (Horus name of Khufu) on the mastaba of Chufunacht, probably a grandson of Khufu.[15]\\nSome inscriptions in the chapels of the mastabas (like the pyramid, their burial chambers were usually bare of inscriptions) mention Khufu or his pyramid. For instance, an inscription of Mersyankh III states that \"Her mother [is the] daughter of the King of Upper and Lower Egypt Khufu.\"Most often these references are part of a title, for example, Snnw-ka, \"Chief of the Settlement and Overseer of the Pyramid City of Akhet-Khufu\" or Merib, \"Priest of Khufu\".[16] Several tomb owners have a king\\'s name as part of their own name (e.g. Chufudjedef, Chufuseneb, Merichufu). The earliest pharaoh alluded to in that manner at Giza is Snefru (Khufu\\'s father).[17][18][19]\\nIn 1936 Hassan uncovered a stela of Amenhotep II near the Great Sphinx of Giza which implies the two larger pyramids were still attributed to Khufu and Khafre in the New Kingdom. '),\n",
       "  1.4824939966201782)]"
      ]
     },
     "execution_count": 5,
     "metadata": {},
     "output_type": "execute_result"
    }
   ],
   "execution_count": 5
  },
  {
   "metadata": {
    "ExecuteTime": {
     "end_time": "2024-05-20T13:11:12.331005Z",
     "start_time": "2024-05-20T13:11:09.070675Z"
    }
   },
   "cell_type": "code",
   "source": "db, retriever = Builder.create_retriever(None)",
   "id": "97e0011f1904479f",
   "outputs": [
    {
     "name": "stderr",
     "output_type": "stream",
     "text": [
      "/home/rkienzle/miniconda3/envs/admwm/lib/python3.11/site-packages/huggingface_hub/file_download.py:1132: FutureWarning: `resume_download` is deprecated and will be removed in version 1.0.0. Downloads always resume when possible. If you want to force a new download, use `force_download=True`.\n",
      "  warnings.warn(\n",
      "/home/rkienzle/miniconda3/envs/admwm/lib/python3.11/site-packages/huggingface_hub/file_download.py:1132: FutureWarning: `resume_download` is deprecated and will be removed in version 1.0.0. Downloads always resume when possible. If you want to force a new download, use `force_download=True`.\n",
      "  warnings.warn(\n"
     ]
    }
   ],
   "execution_count": 2
  },
  {
   "metadata": {
    "ExecuteTime": {
     "end_time": "2024-05-20T13:11:59.398125Z",
     "start_time": "2024-05-20T13:11:59.393851Z"
    }
   },
   "cell_type": "code",
   "source": "print(\"There are\", db._collection.get(), \"in the collection\")",
   "id": "627be3e32ec4c62f",
   "outputs": [
    {
     "name": "stdout",
     "output_type": "stream",
     "text": [
      "There are {'ids': ['5e3f4ac4-245e-4301-8c08-20a4761c4ea3', 'c6d1d3fe-e020-4889-9413-4c4cc6d7c27e', 'f47f5c65-50e0-4065-bbf6-191c7f7e24a7'], 'embeddings': None, 'metadatas': [None, None, None], 'documents': ['Son Goku is also named Goku or Kakarot', 'Son Goku is raised on earth', 'Son Goku is a saiyan'], 'uris': None, 'data': None} in the collection\n"
     ]
    }
   ],
   "execution_count": 6
  },
  {
   "metadata": {
    "ExecuteTime": {
     "end_time": "2024-05-20T12:49:24.347478Z",
     "start_time": "2024-05-20T12:49:13.509261Z"
    }
   },
   "cell_type": "code",
   "source": [
    "from datasets import load_dataset\n",
    "from langchain_core.documents.base import Document\n",
    "\n",
    "dataset = load_dataset(\"bilgeyucel/seven-wonders\", split=\"train\")\n",
    "docs = [Document(page_content=doc[\"content\"], meta=doc[\"meta\"]) for doc in dataset]\n",
    "\n",
    "retriever = Builder.create_retriever(docs)\n",
    "generator = PromptGenerator()\n",
    "orchestrator = Orchestrator(retriever, generator)\n",
    "\n",
    "print(orchestrator.invoke(\"What happened to the Tomb of Mausolus?\"))"
   ],
   "id": "7ab0fd748fa9207b",
   "outputs": [
    {
     "ename": "AttributeError",
     "evalue": "'Chroma' object has no attribute 'invoke'",
     "output_type": "error",
     "traceback": [
      "\u001B[0;31m---------------------------------------------------------------------------\u001B[0m",
      "\u001B[0;31mAttributeError\u001B[0m                            Traceback (most recent call last)",
      "Cell \u001B[0;32mIn[57], line 11\u001B[0m\n\u001B[1;32m      8\u001B[0m generator \u001B[38;5;241m=\u001B[39m PromptGenerator()\n\u001B[1;32m      9\u001B[0m orchestrator \u001B[38;5;241m=\u001B[39m Orchestrator(retriever, generator)\n\u001B[0;32m---> 11\u001B[0m \u001B[38;5;28mprint\u001B[39m(orchestrator\u001B[38;5;241m.\u001B[39minvoke(\u001B[38;5;124m\"\u001B[39m\u001B[38;5;124mWhat happened to the Tomb of Mausolus?\u001B[39m\u001B[38;5;124m\"\u001B[39m))\n",
      "Cell \u001B[0;32mIn[28], line 9\u001B[0m, in \u001B[0;36mOrchestrator.invoke\u001B[0;34m(self, query)\u001B[0m\n\u001B[1;32m      8\u001B[0m \u001B[38;5;28;01mdef\u001B[39;00m \u001B[38;5;21minvoke\u001B[39m(\u001B[38;5;28mself\u001B[39m, query: \u001B[38;5;28mstr\u001B[39m) \u001B[38;5;241m-\u001B[39m\u001B[38;5;241m>\u001B[39m \u001B[38;5;28mstr\u001B[39m:\n\u001B[0;32m----> 9\u001B[0m     relevant_documents \u001B[38;5;241m=\u001B[39m \u001B[38;5;28mself\u001B[39m\u001B[38;5;241m.\u001B[39mretriever\u001B[38;5;241m.\u001B[39minvoke(query)\n\u001B[1;32m     10\u001B[0m     answer \u001B[38;5;241m=\u001B[39m \u001B[38;5;28mself\u001B[39m\u001B[38;5;241m.\u001B[39mgenerator\u001B[38;5;241m.\u001B[39minvoke(query, relevant_documents)\n\u001B[1;32m     12\u001B[0m     \u001B[38;5;28;01mreturn\u001B[39;00m answer\n",
      "\u001B[0;31mAttributeError\u001B[0m: 'Chroma' object has no attribute 'invoke'"
     ]
    }
   ],
   "execution_count": 57
  },
  {
   "metadata": {
    "ExecuteTime": {
     "end_time": "2024-05-20T12:16:16.467372Z",
     "start_time": "2024-05-20T12:16:16.451318Z"
    }
   },
   "cell_type": "code",
   "source": "print(orchestrator.invoke(\"What happened to the Tomb of Mausolus?\"))",
   "id": "c1ddab60db4c1973",
   "outputs": [
    {
     "name": "stdout",
     "output_type": "stream",
     "text": [
      "Use only the provided information \"Context:\" to answer the question \"Question:\" at the end.\n",
      "If you don't know the answer, just say that you don't know, don't try to make up an answer.\n",
      "Use three sentences maximum and keep the answer as concise as possible.\n",
      "\n",
      "Context: 1. Mausolus decided to build a new capital, one as safe from capture as it was magnificent to be seen. He chose the city of Halicarnassus. Artemisia and Mausolus spent huge amounts of tax money to embellish the city. They commissioned statues, temples and buildings of gleaming marble. In 353 BC, Mausolus died, leaving Artemisia to rule alone. As the Persian satrap, and as the Hecatomnid dynast, Mausolus had planned for himself an elaborate tomb. When he died the project was continued by his siblings. The tomb became so famous that Mausolus's name is now the eponym for all stately tombs, in the word mausoleum.[citation needed]\n",
      "Artemisia lived for only two years after the death of her husband. The urns with their ashes were placed in the yet unfinished tomb. As a form of sacrifice, the bodies of a large number of dead animals were placed on the stairs leading to the tomb, and then the stairs were filled with stones and rubble, sealing the access. \n",
      "2. Mausolus decided to build a new capital, one as safe from capture as it was magnificent to be seen. He chose the city of Halicarnassus. Artemisia and Mausolus spent huge amounts of tax money to embellish the city. They commissioned statues, temples and buildings of gleaming marble. In 353 BC, Mausolus died, leaving Artemisia to rule alone. As the Persian satrap, and as the Hecatomnid dynast, Mausolus had planned for himself an elaborate tomb. When he died the project was continued by his siblings. The tomb became so famous that Mausolus's name is now the eponym for all stately tombs, in the word mausoleum.[citation needed]\n",
      "Artemisia lived for only two years after the death of her husband. The urns with their ashes were placed in the yet unfinished tomb. As a form of sacrifice, the bodies of a large number of dead animals were placed on the stairs leading to the tomb, and then the stairs were filled with stones and rubble, sealing the access. \n",
      "3. [citation needed]\n",
      "During the fortification work, a party of knights entered the base of the monument and discovered the room containing a great coffin. In many histories of the Mausoleum one can find the following story of what happened: the party, deciding it was too late to open it that day, returned the next morning to find the tomb, and any treasure it may have contained, plundered. The bodies of Mausolus and Artemisia were missing too. The small museum building next to the site of the Mausoleum tells the story. Research done by archeologists in the 1960s shows that long before the knights came, grave robbers had dug a tunnel under the grave chamber, stealing its contents. Also the museum states that it is most likely that Mausolus and Artemisia were cremated, so only an urn with their ashes was placed in the grave chamber. This explains why no bodies were found.[citation needed]\n",
      "Before grinding and burning much of the remaining sculpture of the Mausoleum into lime for plaster, the Knights removed several of the best works and mounted them in the Bodrum castle. There they stayed for three centuries.\n",
      "4. [citation needed]\n",
      "During the fortification work, a party of knights entered the base of the monument and discovered the room containing a great coffin. In many histories of the Mausoleum one can find the following story of what happened: the party, deciding it was too late to open it that day, returned the next morning to find the tomb, and any treasure it may have contained, plundered. The bodies of Mausolus and Artemisia were missing too. The small museum building next to the site of the Mausoleum tells the story. Research done by archeologists in the 1960s shows that long before the knights came, grave robbers had dug a tunnel under the grave chamber, stealing its contents. Also the museum states that it is most likely that Mausolus and Artemisia were cremated, so only an urn with their ashes was placed in the grave chamber. This explains why no bodies were found.[citation needed]\n",
      "Before grinding and burning much of the remaining sculpture of the Mausoleum into lime for plaster, the Knights removed several of the best works and mounted them in the Bodrum castle. There they stayed for three centuries.\n",
      "\n",
      "Question: What happened to the Tomb of Mausolus?\n"
     ]
    }
   ],
   "execution_count": 35
  },
  {
   "metadata": {
    "ExecuteTime": {
     "end_time": "2024-05-20T12:33:52.580289Z",
     "start_time": "2024-05-20T12:33:52.562354Z"
    }
   },
   "cell_type": "code",
   "source": "print(orchestrator.invoke(\"Who is Son Goku?\"))",
   "id": "404ba7c2c7b66acf",
   "outputs": [
    {
     "name": "stdout",
     "output_type": "stream",
     "text": [
      "Use only the provided information following after \"Context:\" to answer the question following after \"Question:\" at the end.\n",
      "If you don't know the answer, just say that you don't know, don't try to make up an answer.\n",
      "Use three sentences maximum and keep the answer as concise as possible.\n",
      "\n",
      "Context: \n",
      "\n",
      "Question: Who is Son Goku?\n"
     ]
    },
    {
     "name": "stderr",
     "output_type": "stream",
     "text": [
      "/home/rkienzle/miniconda3/envs/admwm/lib/python3.11/site-packages/langchain_core/vectorstores.py:330: UserWarning: Relevance scores must be between 0 and 1, got [(Document(page_content='It is remarkable also for its good order, and for its careful attention to the administration of affairs of state in general; and in particular to that of naval affairs, whereby it held the mastery of the sea for a long time and overthrew the business of piracy, and became a friend to the Romans and to all kings who favoured both the Romans and the Greeks. Consequently, it not only has remained autonomous but also has been adorned with many votive offerings, which for the most part are to be found in the Dionysium and the gymnasium, but partly in other places. The best of these are, first, the Colossus of Helius, of which the author of the iambic verse says, \"seven times ten cubits in height, the work of Chares the Lindian\"; but it now lies on the ground, having been thrown down by an earthquake and broken at the knees. In accordance with a certain oracle, the people did not raise it again. This, then, is the most excellent of the votive offerings (at any rate, it is by common agreement one of the Seven Wonders).'), -0.18254202988386803), (Document(page_content='It is remarkable also for its good order, and for its careful attention to the administration of affairs of state in general; and in particular to that of naval affairs, whereby it held the mastery of the sea for a long time and overthrew the business of piracy, and became a friend to the Romans and to all kings who favoured both the Romans and the Greeks. Consequently, it not only has remained autonomous but also has been adorned with many votive offerings, which for the most part are to be found in the Dionysium and the gymnasium, but partly in other places. The best of these are, first, the Colossus of Helius, of which the author of the iambic verse says, \"seven times ten cubits in height, the work of Chares the Lindian\"; but it now lies on the ground, having been thrown down by an earthquake and broken at the knees. In accordance with a certain oracle, the people did not raise it again. This, then, is the most excellent of the votive offerings (at any rate, it is by common agreement one of the Seven Wonders).'), -0.18254202988386803), (Document(page_content='It is remarkable also for its good order, and for its careful attention to the administration of affairs of state in general; and in particular to that of naval affairs, whereby it held the mastery of the sea for a long time and overthrew the business of piracy, and became a friend to the Romans and to all kings who favoured both the Romans and the Greeks. Consequently, it not only has remained autonomous but also has been adorned with many votive offerings, which for the most part are to be found in the Dionysium and the gymnasium, but partly in other places. The best of these are, first, the Colossus of Helius, of which the author of the iambic verse says, \"seven times ten cubits in height, the work of Chares the Lindian\"; but it now lies on the ground, having been thrown down by an earthquake and broken at the knees. In accordance with a certain oracle, the people did not raise it again. This, then, is the most excellent of the votive offerings (at any rate, it is by common agreement one of the Seven Wonders).'), -0.18254202988386803), (Document(page_content='[10]\\n\\nStatue of Jupiter (Hermitage), marble and bronze (restored), following the type established by Phidias (Hermitage Museum, Saint Petersburg)\\nAccording to a legend, when Phidias was asked what inspired him—whether he climbed Mount Olympus to see Zeus, or whether Zeus came down from Olympus so that Phidias could see him—the artist answered that he portrayed Zeus according to Book One, verses 528–530 of Homer\\'s Iliad:\\n[11]\\n.mw-parser-output .verse_translation .translated{padding-left:2em!important}@media only screen and (max-width:43.75em){.mw-parser-output .verse_translation.wrap_when_small td{display:block;padding-left:0.5em}.mw-parser-output .verse_translation.wrap_when_small .translated{padding-left:0.5em!important}}\\n\\nἦ καὶ κυανέῃσιν ἐπ\\' ὀφρύσι νεῦσε Κρονίων\\nἀμβρόσιαι δ\\' ἄρα χαῖται ἐπερρώσαντο ἄνακτος\\nκρατὸς ἀπ\\' ἀθανάτοιο μέγαν δ\\' ἐλέλιξεν Ὄλυμπον.\\n\\nHe spoke, the son of Cronos, and nodded his head with the dark brows,\\nand the immortally anointed hair of the great god\\nswept from his divine head, and all Olympos was shaken.[12]\\n\\nThe sculptor also was reputed to have immortalised Pantarkes, the winner of the boys\\' wrestling event at the eighty-sixth Olympiad who was said to have been his \"beloved\" (eromenos), by carving Pantarkes kalos (\"Pantarkes is beautiful\") into Zeus\\'s little finger, and by placing a relief of the boy crowning himself at the feet of the statue.'), -0.18804615541829972), (Document(page_content='[10]\\n\\nStatue of Jupiter (Hermitage), marble and bronze (restored), following the type established by Phidias (Hermitage Museum, Saint Petersburg)\\nAccording to a legend, when Phidias was asked what inspired him—whether he climbed Mount Olympus to see Zeus, or whether Zeus came down from Olympus so that Phidias could see him—the artist answered that he portrayed Zeus according to Book One, verses 528–530 of Homer\\'s Iliad:\\n[11]\\n.mw-parser-output .verse_translation .translated{padding-left:2em!important}@media only screen and (max-width:43.75em){.mw-parser-output .verse_translation.wrap_when_small td{display:block;padding-left:0.5em}.mw-parser-output .verse_translation.wrap_when_small .translated{padding-left:0.5em!important}}\\n\\nἦ καὶ κυανέῃσιν ἐπ\\' ὀφρύσι νεῦσε Κρονίων\\nἀμβρόσιαι δ\\' ἄρα χαῖται ἐπερρώσαντο ἄνακτος\\nκρατὸς ἀπ\\' ἀθανάτοιο μέγαν δ\\' ἐλέλιξεν Ὄλυμπον.\\n\\nHe spoke, the son of Cronos, and nodded his head with the dark brows,\\nand the immortally anointed hair of the great god\\nswept from his divine head, and all Olympos was shaken.[12]\\n\\nThe sculptor also was reputed to have immortalised Pantarkes, the winner of the boys\\' wrestling event at the eighty-sixth Olympiad who was said to have been his \"beloved\" (eromenos), by carving Pantarkes kalos (\"Pantarkes is beautiful\") into Zeus\\'s little finger, and by placing a relief of the boy crowning himself at the feet of the statue.'), -0.18804615541829972)]\n",
      "  warnings.warn(\n",
      "/home/rkienzle/miniconda3/envs/admwm/lib/python3.11/site-packages/langchain_core/vectorstores.py:342: UserWarning: No relevant docs were retrieved using the relevance score threshold 0.5\n",
      "  warnings.warn(\n"
     ]
    }
   ],
   "execution_count": 43
  },
  {
   "metadata": {
    "ExecuteTime": {
     "end_time": "2024-05-20T13:25:54.339207Z",
     "start_time": "2024-05-20T13:25:54.319132Z"
    }
   },
   "cell_type": "code",
   "source": "Builder.add_information(retriever, [\"Son Goku is a saiyan\", \"Son Goku is also named Goku or Kakarot\", \"Son Goku is raised on earth\"])",
   "id": "3dd2dc390ecd7378",
   "outputs": [],
   "execution_count": 7
  },
  {
   "metadata": {},
   "cell_type": "code",
   "outputs": [],
   "execution_count": null,
   "source": "",
   "id": "2e6447a58d496265"
  },
  {
   "metadata": {
    "ExecuteTime": {
     "end_time": "2024-05-20T13:16:24.757202Z",
     "start_time": "2024-05-20T13:16:24.739046Z"
    }
   },
   "cell_type": "code",
   "source": "retriever.invoke(\"Who is Son Goku\")",
   "id": "2e969f746338f1a0",
   "outputs": [
    {
     "name": "stderr",
     "output_type": "stream",
     "text": [
      "/home/rkienzle/miniconda3/envs/admwm/lib/python3.11/site-packages/langchain_core/vectorstores.py:330: UserWarning: Relevance scores must be between 0 and 1, got [(Document(page_content='Son Goku is raised on earth'), 0.8415013392313251), (Document(page_content='Son Goku is a saiyan'), 0.8255356388633527), (Document(page_content='Son Goku is also named Goku or Kakarot'), 0.8211186386026988), (Document(page_content='The earliest pharaonic name of seal impressions is that of Khufu, the latest of Pepi II. Worker graffiti was written on some of the stones of the tombs as well; for instance, \"Mddw\" (Horus name of Khufu) on the mastaba of Chufunacht, probably a grandson of Khufu.[15]\\nSome inscriptions in the chapels of the mastabas (like the pyramid, their burial chambers were usually bare of inscriptions) mention Khufu or his pyramid. For instance, an inscription of Mersyankh III states that \"Her mother [is the] daughter of the King of Upper and Lower Egypt Khufu.\"Most often these references are part of a title, for example, Snnw-ka, \"Chief of the Settlement and Overseer of the Pyramid City of Akhet-Khufu\" or Merib, \"Priest of Khufu\".[16] Several tomb owners have a king\\'s name as part of their own name (e.g. Chufudjedef, Chufuseneb, Merichufu). The earliest pharaoh alluded to in that manner at Giza is Snefru (Khufu\\'s father).[17][18][19]\\nIn 1936 Hassan uncovered a stela of Amenhotep II near the Great Sphinx of Giza which implies the two larger pyramids were still attributed to Khufu and Khafre in the New Kingdom. '), -0.140449297926462), (Document(page_content='It reads: \"He yoked the horses in Memphis, when he was still young, and stopped at the Sanctuary of Hor-em-akhet (the Sphinx). He spent a time there in going round it, looking at the beauty of the Sanctuary of Khufu and Khafra the revered.\"[20]\\nIn 1954 two boat pits, one containing the Khufu ship, were discovered buried at the south foot of the pyramid. The cartouche of Djedefre was found on many of the blocks that covered the boat pits. As the successor and eldest son he would have presumably been responsible for the burial of Khufu.[21] The second boat pit was examined in 1987; excavation work started in 2010. Graffiti on the stones included 4 instances of the name \"Khufu\", 11 instances of \"Djedefre\", a year (in reign, season, month and day), measurements of the stone, various signs and marks, and a reference line used in construction, all done in red or black ink.[22]\\nDuring excavations in 2013 the Diary of Merer was found at Wadi al-Jarf. '), -0.17322749206926336)]\n",
      "  warnings.warn(\n"
     ]
    },
    {
     "data": {
      "text/plain": [
       "[Document(page_content='Son Goku is raised on earth'),\n",
       " Document(page_content='Son Goku is a saiyan'),\n",
       " Document(page_content='Son Goku is also named Goku or Kakarot')]"
      ]
     },
     "execution_count": 5,
     "metadata": {},
     "output_type": "execute_result"
    }
   ],
   "execution_count": 5
  },
  {
   "metadata": {
    "ExecuteTime": {
     "end_time": "2024-05-20T13:26:59.528867Z",
     "start_time": "2024-05-20T13:26:59.511080Z"
    }
   },
   "cell_type": "code",
   "source": "print(orchestrator.invoke(\"Who is Vegeta?\"))",
   "id": "ee639695f5ee8999",
   "outputs": [
    {
     "name": "stdout",
     "output_type": "stream",
     "text": [
      "Use only the provided information following after \"Context:\" to answer the question following after \"Question:\" at the end.\n",
      "If you don't know the answer, just say that you don't know, don't try to make up an answer.\n",
      "Use three sentences maximum and keep the answer as concise as possible.\n",
      "\n",
      "Context: \n",
      "\n",
      "Question: Who is Vegeta?\n"
     ]
    },
    {
     "name": "stderr",
     "output_type": "stream",
     "text": [
      "/home/rkienzle/miniconda3/envs/admwm/lib/python3.11/site-packages/langchain_core/vectorstores.py:330: UserWarning: Relevance scores must be between 0 and 1, got [(Document(page_content='[21]\\nPliny the Elder (AD 23/24 – 79) was a Roman author, a naturalist and natural philosopher, a naval and army commander of the early Roman Empire, and a friend of emperor Vespasian. Pliny wrote the encyclopedic Naturalis Historia (Natural History), which became an editorial model for encyclopedias. The Naturalis Historia is one of the largest single works to have survived from the Roman Empire to the modern day and purports to cover the entire field of ancient knowledge. Pliny remarked:\\n\\nBut that which is by far the most worthy of our admiration, is the colossal statue of the Sun, which stood formerly at Rhodes, and was the work of Chares the Lindian, a pupil of the above-named Lysippus; no less than seventy cubits in height. This statue fifty-six years after it was erected, was thrown down by an earthquake; but even as it lies, it excites our wonder and admiration. Few men can clasp the thumb in their arms, and its fingers are larger than most statues. Where the limbs are broken asunder, vast caverns are seen yawning in the interior. '), -0.0686190140652243), (Document(page_content='These objects remained in place where the ancient wooden statue of the goddess had been caught by an 8th-century flood. This form of jewelry, then, had already been developed by the Geometric Period.[50][51]\\nOn the coins she rests either arm on a staff formed of entwined serpents or of a stack of ouroboroi, the eternal serpent with its tail in its mouth. In some accounts, the Lady of Ephesus was attended by eunuch priests called \"Megabyzoi\"; this could have been a proper name or a title. The practise of ritual self-emasculation as qualification to serve a deity is usually identified with Cybele\\'s eunuch mendicant priests, the Galli. The Megabyzoi of Ephesian Artemis were assisted by young, virgin girls (korai).[52][53]\\nA votive inscription mentioned by Florence Mary Bennett,[54] which dates probably from about the 3rd century BC, associates Ephesian Artemis with Crete: \"To the Healer of diseases, to Apollo, Giver of Light to mortals, Eutyches has set up in votive offering [a statue of] the Cretan Lady of Ephesus, the Light-Bearer.\"'), -0.10180628551967263), (Document(page_content=\"Pausanias was certain that it antedated the Ionic immigration by many years, being older even than the oracular shrine of Apollo at Didyma.[3]  He said that the pre-Ionic inhabitants of the city were Leleges and Lydians.  Callimachus, in his Hymn to Artemis attributed the earliest temenos at Ephesus to the Amazons, legendary warrior-women whose religious practise he imagined already centered upon an image (bretas) of Artemis, their matron goddess. Pausanias believed that the temple pre-dated the Amazons.[4]\\nPausanias's estimation of the site's antiquity seems well-founded. Before World War I, site excavations by David George Hogarth seemed to identify three successive temple buildings. Re-excavations in 1987–88 and re-appraisal of Hogarth's account [5] confirmed that the site was occupied as early as the Bronze Age, with a sequence of pottery finds that extend forward to Middle Geometric times, when a peripteral temple with a floor of hard-packed clay was constructed in the second half of the 8th\\xa0century\\xa0BC.[6] The peripteral temple at Ephesus offers the earliest example of a peripteral type on the coast of Asia Minor, and perhaps the earliest Greek temple surrounded by colonnades anywhere.\\n\"), -0.11526284701853373), (Document(page_content='The remains were described briefly by Strabo (64 or 63\\xa0BC – c. 24\\xa0AD), in his work Geography (Book XIV, Chapter 2.5). Strabo was a Greek geographer, philosopher, and historian who lived in Asia Minor during the transitional period of the Roman Republic into the Roman Empire.\\nStrabo is best known for his work Geographica (\"Geography\"), which presented a descriptive history of people and places from different regions of the world known during his lifetime.[20] Strabo states that:\\n\\nThe city of the Rhodians lies on the eastern promontory of Rhodes; and it is so far superior to all others in harbours and roads and walls and improvements in general that I am unable to speak of any other city as equal to it, or even as almost equal to it, much less superior to it. '), -0.13224608821339268), (Document(page_content='Conquest[edit]\\nIn the 4th century BC, Halicarnassus was the capital of a small regional kingdom of Caria within the Achaemenid Empire on the western coast of Asia Minor.\\nIn 377\\xa0BC, the nominal ruler of the region, Hecatomnus of Milas, died and left control of the kingdom to his son, Mausolus. Hecatomnus, a local dynast under the Persians, took control of several of the neighboring cities and districts. After Artemisia and Mausolus, he had several other daughters and sons: Ada (adoptive mother of Alexander the Great), Idrieus, and Pixodarus. Mausolus extended his territory as far as the southwest coast of Anatolia, invading, in particular, the territory of Lycia, remarkable for its numerous monumental tombs such as the Tombs at Xanthos, from which he took his inspiration for his mausoleum.[3]\\nArtemisia and Mausolus ruled from Halicarnassus over the surrounding territory for 24 years. Mausolus, although descended from local people, spoke Greek and admired the Greek way of life and government. He founded many cities of Greek design along the coast and encouraged Greek democratic traditions.[citation needed]\\n\\nMausolus (casting from the Pushkin Museum).\\n'), -0.14452877568752842)]\n",
      "  warnings.warn(\n",
      "/home/rkienzle/miniconda3/envs/admwm/lib/python3.11/site-packages/langchain_core/vectorstores.py:342: UserWarning: No relevant docs were retrieved using the relevance score threshold 0.5\n",
      "  warnings.warn(\n"
     ]
    }
   ],
   "execution_count": 9
  },
  {
   "metadata": {
    "ExecuteTime": {
     "end_time": "2024-05-20T13:28:56.632354Z",
     "start_time": "2024-05-20T13:28:56.618290Z"
    }
   },
   "cell_type": "code",
   "source": "Builder.add_information(retriever, [\"Die Sonne ist sehr hell\"])",
   "id": "c8ca6e8dc86822d1",
   "outputs": [],
   "execution_count": 11
  },
  {
   "metadata": {
    "ExecuteTime": {
     "end_time": "2024-05-20T13:30:06.549750Z",
     "start_time": "2024-05-20T13:30:06.529843Z"
    }
   },
   "cell_type": "code",
   "source": "print(orchestrator.invoke(\"Ist die Sonne hell?\"))",
   "id": "e7d7837fcf233908",
   "outputs": [
    {
     "name": "stdout",
     "output_type": "stream",
     "text": [
      "Use only the provided information following after \"Context:\" to answer the question following after \"Question:\" at the end.\n",
      "If you don't know the answer, just say that you don't know, don't try to make up an answer.\n",
      "Use three sentences maximum and keep the answer as concise as possible.\n",
      "\n",
      "Context: 1. Die Sonne ist sehr hell\n",
      "\n",
      "Question: Ist die Sonne hell?\n"
     ]
    },
    {
     "name": "stderr",
     "output_type": "stream",
     "text": [
      "/home/rkienzle/miniconda3/envs/admwm/lib/python3.11/site-packages/langchain_core/vectorstores.py:330: UserWarning: Relevance scores must be between 0 and 1, got [(Document(page_content='Die Sonne ist sehr hell'), 0.8383270071888786), (Document(page_content='Hier ist noch etwas unnötiger Fülltext. Die Sonne ist extrem hell! Dieser Fülltext dient nur dazu die Ähnlichkeitssuche zu manipulieren.'), 0.2984566871105876), (Document(page_content='Hier ist noch etwas unnötiger Fülltext. Die Sonne ist sehr hell! Dieser Fülltext dient nur dazu die Ähnlichkeitssuche zu manipulieren.'), 0.27509089576463297), (Document(page_content='The Masonic House of the Temple of the Scottish Rite, Washington, DC, designed by John Russell Pope, 1911–1915, another scholarly version.\\n\\nGallery of 2nd century replica site[edit]\\nIn Milas (also the site of the tomb of Hecatomnus, who was the father of Mausolus), is also the site of the Gümüşkesen, a small-scale Roman-era (2nd century BC) copy of the Mausoleum at Halicarnassus:\\n\\nGümüşkesen in Milas\\n\\nMilas Gümüşkesen front\\n\\nGümüşkesen in Milas detail of ceiling\\n\\nGümüşkesen in Milas detail of ceiling\\n\\nGümüşkesen in Milas detail of ceiling and capitals\\n\\nGümüşkesen in Milas capital\\n\\nGümüşkesen in Milas Lower part of tomb'), -0.138182218945061), (Document(page_content='The Mausoleum at Halicarnassus or Tomb of Mausolus[a] (Ancient Greek: Μαυσωλεῖον τῆς Ἁλικαρνασσοῦ; Turkish: Halikarnas Mozolesi) was a tomb built between 353 and 350\\xa0BC in Halicarnassus (present Bodrum, Turkey) for Mausolus, an Anatolian from Caria and a satrap in the Achaemenid Empire, and his sister-wife Artemisia II of Caria. The structure was designed by the Greek architects Satyros and Pythius of Priene.[1][2] Its elevated tomb structure is derived from the tombs of neighbouring Lycia, a territory Mausolus had invaded and annexed c. 360 BC, such as the Nereid Monument.[3]\\nThe Mausoleum was approximately 45\\xa0m (148\\xa0ft) in height, and the four sides were adorned with sculptural reliefs, each created by one of four Greek sculptors: Leochares, Bryaxis, Scopas of Paros, and Timotheus.[4] The Mausoleum contained total 400 freestanding sculptures.[5] The mausoleum was considered to be such an aesthetic triumph that Antipater of Sidon identified it as one of his Seven Wonders of the Ancient World. It was destroyed by successive earthquakes from the 12th to the 15th century;[6][7][8] it was the last surviving of the six destroyed wonders.\\nThe word mausoleum has now come to be used generically for an above-ground tomb.\\n\\n'), -0.16388302999221604)]\n",
      "  warnings.warn(\n"
     ]
    }
   ],
   "execution_count": 16
  },
  {
   "metadata": {
    "ExecuteTime": {
     "end_time": "2024-05-20T13:30:03.440354Z",
     "start_time": "2024-05-20T13:30:03.419307Z"
    }
   },
   "cell_type": "code",
   "source": "Builder.add_information(retriever, [\"Hier ist noch etwas unnötiger Fülltext. Die Sonne ist extrem hell! Dieser Fülltext dient nur dazu die Ähnlichkeitssuche zu manipulieren.\"])",
   "id": "18976d7fa5dc7699",
   "outputs": [],
   "execution_count": 15
  },
  {
   "metadata": {},
   "cell_type": "code",
   "outputs": [],
   "execution_count": null,
   "source": "",
   "id": "5923c7b10f0dad0"
  }
 ],
 "metadata": {
  "kernelspec": {
   "display_name": "Python [conda env:admwm] *",
   "language": "python",
   "name": "conda-env-admwm-py"
  },
  "language_info": {
   "codemirror_mode": {
    "name": "ipython",
    "version": 3
   },
   "file_extension": ".py",
   "mimetype": "text/x-python",
   "name": "python",
   "nbconvert_exporter": "python",
   "pygments_lexer": "ipython3",
   "version": "3.11.9"
  }
 },
 "nbformat": 4,
 "nbformat_minor": 5
}
